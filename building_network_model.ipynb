{
 "cells": [
  {
   "cell_type": "code",
   "execution_count": 1,
   "metadata": {},
   "outputs": [
    {
     "name": "stderr",
     "output_type": "stream",
     "text": [
      "Using TensorFlow backend.\n",
      "/usr/local/Cellar/python3/3.6.2/Frameworks/Python.framework/Versions/3.6/lib/python3.6/importlib/_bootstrap.py:205: RuntimeWarning: compiletime version 3.5 of module 'tensorflow.python.framework.fast_tensor_util' does not match runtime version 3.6\n",
      "  return f(*args, **kwds)\n"
     ]
    }
   ],
   "source": [
    "import numpy as np\n",
    "import pandas as pd\n",
    "from keras.models import Sequential\n",
    "from keras.layers.core import Dense, Dropout, Activation\n",
    "from keras.layers import Conv2D, MaxPooling2D, Flatten\n",
    "from keras.optimizers import SGD, Adam\n",
    "from keras.utils import np_utils\n",
    "from keras.datasets import mnist\n",
    "from keras.models import model_from_json\n",
    "import os"
   ]
  },
  {
   "cell_type": "code",
   "execution_count": 4,
   "metadata": {},
   "outputs": [],
   "source": [
    "y_train = np.load('./data_for_prediction/y_train.npy')\n",
    "x_train = np.load('./data_for_prediction/x_train.npy')"
   ]
  },
  {
   "cell_type": "markdown",
   "metadata": {},
   "source": [
    "# evaluating model"
   ]
  },
  {
   "cell_type": "code",
   "execution_count": 6,
   "metadata": {},
   "outputs": [],
   "source": [
    "from sklearn.model_selection import train_test_split\n",
    "X_train, X_test, Y_train, Y_test = train_test_split(x_train, (y_train>=15.0).astype(int), test_size=0.25, random_state=42)\n"
   ]
  },
  {
   "cell_type": "code",
   "execution_count": 3,
   "metadata": {},
   "outputs": [],
   "source": [
    "model = Sequential([\n",
    "    Dense(40, input_dim=10),  \n",
    "    Activation('softmax'),\n",
    "    Dense(units=20,activation='softmax'),\n",
    "    Dense(1),\n",
    "    Activation('sigmoid'),\n",
    "])"
   ]
  },
  {
   "cell_type": "code",
   "execution_count": 4,
   "metadata": {},
   "outputs": [],
   "source": [
    "model.compile(optimizer=\"rmsprop\",\n",
    "              loss='binary_crossentropy',\n",
    "              metrics=['accuracy'])"
   ]
  },
  {
   "cell_type": "code",
   "execution_count": 7,
   "metadata": {},
   "outputs": [
    {
     "name": "stdout",
     "output_type": "stream",
     "text": [
      "Epoch 1/10\n",
      "3114517/3114517 [==============================] - 13s 4us/step - loss: 0.3820 - acc: 0.8381\n",
      "Epoch 2/10\n",
      "3114517/3114517 [==============================] - 15s 5us/step - loss: 0.2027 - acc: 0.9269\n",
      "Epoch 3/10\n",
      "3114517/3114517 [==============================] - 12s 4us/step - loss: 0.1939 - acc: 0.9284\n",
      "Epoch 4/10\n",
      "3114517/3114517 [==============================] - 13s 4us/step - loss: 0.1914 - acc: 0.9289\n",
      "Epoch 5/10\n",
      "3114517/3114517 [==============================] - 12s 4us/step - loss: 0.1909 - acc: 0.9290\n",
      "Epoch 6/10\n",
      "3114517/3114517 [==============================] - 13s 4us/step - loss: 0.1903 - acc: 0.9292\n",
      "Epoch 7/10\n",
      "3114517/3114517 [==============================] - 16s 5us/step - loss: 0.1899 - acc: 0.9293\n",
      "Epoch 8/10\n",
      "3114517/3114517 [==============================] - 12s 4us/step - loss: 0.1894 - acc: 0.9295\n",
      "Epoch 9/10\n",
      "3114517/3114517 [==============================] - 12s 4us/step - loss: 0.1890 - acc: 0.9296\n",
      "Epoch 10/10\n",
      "3114517/3114517 [==============================] - 12s 4us/step - loss: 0.1885 - acc: 0.9297\n"
     ]
    },
    {
     "data": {
      "text/plain": [
       "<keras.callbacks.History at 0x125beaa90>"
      ]
     },
     "execution_count": 7,
     "metadata": {},
     "output_type": "execute_result"
    }
   ],
   "source": [
    "model.fit(X_train, Y_train, epochs=10, batch_size=1000)"
   ]
  },
  {
   "cell_type": "code",
   "execution_count": 9,
   "metadata": {},
   "outputs": [
    {
     "name": "stdout",
     "output_type": "stream",
     "text": [
      "1038173/1038173 [==============================] - 26s 25us/step\n"
     ]
    }
   ],
   "source": [
    "loss, accuracy = model.evaluate(X_test, Y_test)"
   ]
  },
  {
   "cell_type": "code",
   "execution_count": 10,
   "metadata": {},
   "outputs": [
    {
     "name": "stdout",
     "output_type": "stream",
     "text": [
      "loss:  0.187252264973\n",
      "accuracy 0.930857381187\n"
     ]
    }
   ],
   "source": [
    "print('loss: ', loss)\n",
    "print('accuracy', accuracy)"
   ]
  },
  {
   "cell_type": "code",
   "execution_count": 11,
   "metadata": {},
   "outputs": [
    {
     "data": {
      "text/plain": [
       "array([[ 0.00578272],\n",
       "       [ 0.96424693],\n",
       "       [ 0.00623321],\n",
       "       ..., \n",
       "       [ 0.15346076],\n",
       "       [ 0.0040099 ],\n",
       "       [ 0.0072506 ]], dtype=float32)"
      ]
     },
     "execution_count": 11,
     "metadata": {},
     "output_type": "execute_result"
    }
   ],
   "source": [
    "model.predict(X_test)"
   ]
  },
  {
   "cell_type": "markdown",
   "metadata": {},
   "source": [
    "# building model and predict"
   ]
  },
  {
   "cell_type": "code",
   "execution_count": 7,
   "metadata": {},
   "outputs": [
    {
     "name": "stdout",
     "output_type": "stream",
     "text": [
      "Epoch 1/10\n",
      "4152690/4152690 [==============================] - 21s 5us/step - loss: 0.5676 - acc: 0.7447\n",
      "Epoch 2/10\n",
      "4152690/4152690 [==============================] - 21s 5us/step - loss: 0.5606 - acc: 0.7516\n",
      "Epoch 3/10\n",
      "4152690/4152690 [==============================] - 18s 4us/step - loss: 0.5606 - acc: 0.7516\n",
      "Epoch 4/10\n",
      "4152690/4152690 [==============================] - 19s 5us/step - loss: 0.5606 - acc: 0.7516\n",
      "Epoch 5/10\n",
      "4152690/4152690 [==============================] - 18s 4us/step - loss: 0.5606 - acc: 0.7516\n",
      "Epoch 6/10\n",
      "4152690/4152690 [==============================] - 17s 4us/step - loss: 0.5606 - acc: 0.7516\n",
      "Epoch 7/10\n",
      "4152690/4152690 [==============================] - 17s 4us/step - loss: 0.5606 - acc: 0.7516\n",
      "Epoch 8/10\n",
      "4152690/4152690 [==============================] - 17s 4us/step - loss: 0.5606 - acc: 0.7516\n",
      "Epoch 9/10\n",
      "4152690/4152690 [==============================] - 19s 5us/step - loss: 0.5606 - acc: 0.7516\n",
      "Epoch 10/10\n",
      "4152690/4152690 [==============================] - 19s 4us/step - loss: 0.5606 - acc: 0.7516\n"
     ]
    },
    {
     "data": {
      "text/plain": [
       "<keras.callbacks.History at 0x10f664fd0>"
      ]
     },
     "execution_count": 7,
     "metadata": {},
     "output_type": "execute_result"
    }
   ],
   "source": [
    "model = Sequential([\n",
    "    Dense(40, input_dim=10),  \n",
    "    Activation('softmax'),\n",
    "    Dense(units=20,activation='softmax'),\n",
    "    Dense(1),\n",
    "    Activation('sigmoid'),\n",
    "])\n",
    "model.compile(optimizer=\"rmsprop\",\n",
    "              loss='binary_crossentropy',\n",
    "              metrics=['accuracy'])\n",
    "model.fit(x_train, (y_train>=15.0).astype(int), epochs=10, batch_size=1000)"
   ]
  },
  {
   "cell_type": "code",
   "execution_count": 54,
   "metadata": {},
   "outputs": [],
   "source": [
    "def build_model(x_train, y_train):\n",
    "    \n",
    "\n",
    "    model = Sequential([\n",
    "    Dense(40, input_dim=10),  \n",
    "    Activation('softmax'),\n",
    "    Dense(units=20,activation='softmax'),\n",
    "    Dense(1),\n",
    "    Activation('sigmoid'),\n",
    "])\n",
    "    model.compile(optimizer=\"rmsprop\",\n",
    "              loss='binary_crossentropy',\n",
    "              metrics=['accuracy'])\n",
    "    model.fit(x_train, (y_train>=15.0).astype(int), epochs=10, batch_size=1000)\n",
    "    return model"
   ]
  },
  {
   "cell_type": "code",
   "execution_count": 57,
   "metadata": {},
   "outputs": [
    {
     "name": "stdout",
     "output_type": "stream",
     "text": [
      "Epoch 1/10\n",
      "4152690/4152690 [==============================] - 23s 6us/step - loss: 0.3383 - acc: 0.8604\n",
      "Epoch 2/10\n",
      "4152690/4152690 [==============================] - 19s 5us/step - loss: 0.1956 - acc: 0.9284\n",
      "Epoch 3/10\n",
      "4152690/4152690 [==============================] - 20s 5us/step - loss: 0.1923 - acc: 0.9288\n",
      "Epoch 4/10\n",
      "4152690/4152690 [==============================] - 18s 4us/step - loss: 0.1909 - acc: 0.9290\n",
      "Epoch 5/10\n",
      "4152690/4152690 [==============================] - 18s 4us/step - loss: 0.1896 - acc: 0.9293\n",
      "Epoch 6/10\n",
      "4152690/4152690 [==============================] - 19s 5us/step - loss: 0.1878 - acc: 0.9295\n",
      "Epoch 7/10\n",
      "4152690/4152690 [==============================] - 20s 5us/step - loss: 0.1862 - acc: 0.9298\n",
      "Epoch 8/10\n",
      "4152690/4152690 [==============================] - 19s 4us/step - loss: 0.1854 - acc: 0.9300\n",
      "Epoch 9/10\n",
      "4152690/4152690 [==============================] - 18s 4us/step - loss: 0.1850 - acc: 0.9302\n",
      "Epoch 10/10\n",
      "4152690/4152690 [==============================] - 17s 4us/step - loss: 0.1847 - acc: 0.9303\n"
     ]
    }
   ],
   "source": [
    "model = build_model(x_train, y_train)"
   ]
  },
  {
   "cell_type": "code",
   "execution_count": 19,
   "metadata": {},
   "outputs": [],
   "source": [
    "def predict(i, model):\n",
    "    \n",
    "    x_test = np.load('./data_for_prediction/ForecastDataforTesting_201712_' + str(i) + '.npy')\n",
    "    x_index = np.load('./data_for_prediction/ForecastDataforTesting_Index_201712_'+ str(i) + '.npy')\n",
    "    df_ref = pd.read_csv('./data_for_prediction/ForecastDataforTesting_Ref_201712_'+ str(i) + '.csv')\n",
    "    \n",
    "    x_prediction = model.predict(x_test)\n",
    "    \n",
    "    df_ref = pd.merge(df_ref, pd.DataFrame({'ref': x_index, 'wind': x_prediction.flatten()}), how='left', on = 'ref')\n",
    "    df_ref['wind'] = np.where(df_ref['wind'] >= 0.5, 15, 0)\n",
    "    del df_ref['ref']\n",
    "    \n",
    "    df_ref.sort_values(by=['xid', 'yid', 'date_id', 'hour'], inplace=True)\n",
    "    \n",
    "    if os.path.isfile('./data_for_prediction/In_situMeasurementforTesting_201712_'+ str(i) + '.csv'):\n",
    "        os.remove('./data_for_prediction/In_situMeasurementforTesting_201712_'+ str(i) + '.csv')\n",
    "        \n",
    "    df_ref.to_csv('./data_for_prediction/In_situMeasurementforTesting_201712_'+ str(i) + '.csv',header=True, index=False)\n",
    "    \n",
    "    \n",
    "    "
   ]
  },
  {
   "cell_type": "code",
   "execution_count": null,
   "metadata": {},
   "outputs": [],
   "source": []
  },
  {
   "cell_type": "code",
   "execution_count": 60,
   "metadata": {},
   "outputs": [],
   "source": [
    "i = 6"
   ]
  },
  {
   "cell_type": "code",
   "execution_count": 61,
   "metadata": {},
   "outputs": [],
   "source": [
    "x_test = np.load('./data_for_prediction/ForecastDataforTesting_201712_' + str(i) + '.npy')\n",
    "x_index = np.load('./data_for_prediction/ForecastDataforTesting_Index_201712_'+ str(i) + '.npy')\n",
    "df_ref = pd.read_csv('./data_for_prediction/ForecastDataforTesting_Ref_201712_'+ str(i) + '.csv')"
   ]
  },
  {
   "cell_type": "code",
   "execution_count": 64,
   "metadata": {},
   "outputs": [],
   "source": [
    "x_prediction = model.predict(x_test)"
   ]
  },
  {
   "cell_type": "code",
   "execution_count": 66,
   "metadata": {},
   "outputs": [],
   "source": [
    "df_ref = pd.merge(df_ref, pd.DataFrame({'ref': x_index, 'wind': x_prediction.flatten()}), how='left', on = 'ref')\n",
    "del df_ref['ref']"
   ]
  },
  {
   "cell_type": "code",
   "execution_count": 67,
   "metadata": {},
   "outputs": [],
   "source": [
    "df_ref['wind'] = np.where(df_ref['wind'] >= 0.5, 15, 0)"
   ]
  },
  {
   "cell_type": "code",
   "execution_count": 68,
   "metadata": {},
   "outputs": [
    {
     "data": {
      "text/html": [
       "<div>\n",
       "<style>\n",
       "    .dataframe thead tr:only-child th {\n",
       "        text-align: right;\n",
       "    }\n",
       "\n",
       "    .dataframe thead th {\n",
       "        text-align: left;\n",
       "    }\n",
       "\n",
       "    .dataframe tbody tr th {\n",
       "        vertical-align: top;\n",
       "    }\n",
       "</style>\n",
       "<table border=\"1\" class=\"dataframe\">\n",
       "  <thead>\n",
       "    <tr style=\"text-align: right;\">\n",
       "      <th></th>\n",
       "      <th>0</th>\n",
       "    </tr>\n",
       "  </thead>\n",
       "  <tbody>\n",
       "    <tr>\n",
       "      <th>count</th>\n",
       "      <td>4.152744e+06</td>\n",
       "    </tr>\n",
       "    <tr>\n",
       "      <th>mean</th>\n",
       "      <td>1.477984e+01</td>\n",
       "    </tr>\n",
       "    <tr>\n",
       "      <th>std</th>\n",
       "      <td>3.228680e+00</td>\n",
       "    </tr>\n",
       "    <tr>\n",
       "      <th>min</th>\n",
       "      <td>8.120000e-01</td>\n",
       "    </tr>\n",
       "    <tr>\n",
       "      <th>25%</th>\n",
       "      <td>1.276000e+01</td>\n",
       "    </tr>\n",
       "    <tr>\n",
       "      <th>50%</th>\n",
       "      <td>1.452000e+01</td>\n",
       "    </tr>\n",
       "    <tr>\n",
       "      <th>75%</th>\n",
       "      <td>1.664000e+01</td>\n",
       "    </tr>\n",
       "    <tr>\n",
       "      <th>max</th>\n",
       "      <td>2.904000e+01</td>\n",
       "    </tr>\n",
       "  </tbody>\n",
       "</table>\n",
       "</div>"
      ],
      "text/plain": [
       "                  0\n",
       "count  4.152744e+06\n",
       "mean   1.477984e+01\n",
       "std    3.228680e+00\n",
       "min    8.120000e-01\n",
       "25%    1.276000e+01\n",
       "50%    1.452000e+01\n",
       "75%    1.664000e+01\n",
       "max    2.904000e+01"
      ]
     },
     "execution_count": 68,
     "metadata": {},
     "output_type": "execute_result"
    }
   ],
   "source": [
    "pd.DataFrame(x_test.mean(axis=1)).describe()"
   ]
  },
  {
   "cell_type": "code",
   "execution_count": 69,
   "metadata": {},
   "outputs": [
    {
     "data": {
      "text/html": [
       "<div>\n",
       "<style>\n",
       "    .dataframe thead tr:only-child th {\n",
       "        text-align: right;\n",
       "    }\n",
       "\n",
       "    .dataframe thead th {\n",
       "        text-align: left;\n",
       "    }\n",
       "\n",
       "    .dataframe tbody tr th {\n",
       "        vertical-align: top;\n",
       "    }\n",
       "</style>\n",
       "<table border=\"1\" class=\"dataframe\">\n",
       "  <thead>\n",
       "    <tr style=\"text-align: right;\">\n",
       "      <th></th>\n",
       "      <th>0</th>\n",
       "    </tr>\n",
       "  </thead>\n",
       "  <tbody>\n",
       "    <tr>\n",
       "      <th>count</th>\n",
       "      <td>4.152744e+06</td>\n",
       "    </tr>\n",
       "    <tr>\n",
       "      <th>mean</th>\n",
       "      <td>4.171931e-01</td>\n",
       "    </tr>\n",
       "    <tr>\n",
       "      <th>std</th>\n",
       "      <td>3.657566e-01</td>\n",
       "    </tr>\n",
       "    <tr>\n",
       "      <th>min</th>\n",
       "      <td>2.632085e-03</td>\n",
       "    </tr>\n",
       "    <tr>\n",
       "      <th>25%</th>\n",
       "      <td>5.620656e-02</td>\n",
       "    </tr>\n",
       "    <tr>\n",
       "      <th>50%</th>\n",
       "      <td>3.041610e-01</td>\n",
       "    </tr>\n",
       "    <tr>\n",
       "      <th>75%</th>\n",
       "      <td>8.241350e-01</td>\n",
       "    </tr>\n",
       "    <tr>\n",
       "      <th>max</th>\n",
       "      <td>9.694299e-01</td>\n",
       "    </tr>\n",
       "  </tbody>\n",
       "</table>\n",
       "</div>"
      ],
      "text/plain": [
       "                  0\n",
       "count  4.152744e+06\n",
       "mean   4.171931e-01\n",
       "std    3.657566e-01\n",
       "min    2.632085e-03\n",
       "25%    5.620656e-02\n",
       "50%    3.041610e-01\n",
       "75%    8.241350e-01\n",
       "max    9.694299e-01"
      ]
     },
     "execution_count": 69,
     "metadata": {},
     "output_type": "execute_result"
    }
   ],
   "source": [
    "\n",
    "pd.DataFrame(x_prediction.flatten()).describe()"
   ]
  },
  {
   "cell_type": "code",
   "execution_count": 34,
   "metadata": {},
   "outputs": [
    {
     "data": {
      "text/plain": [
       "array([0, 0, 1, 1, 1])"
      ]
     },
     "execution_count": 34,
     "metadata": {},
     "output_type": "execute_result"
    }
   ],
   "source": [
    "np.where(pd.Series([1, 2, 3, 4, 5]) >= 3, 1, 0)"
   ]
  },
  {
   "cell_type": "code",
   "execution_count": 37,
   "metadata": {},
   "outputs": [
    {
     "data": {
      "text/plain": [
       "array([0])"
      ]
     },
     "execution_count": 37,
     "metadata": {},
     "output_type": "execute_result"
    }
   ],
   "source": [
    "df_ref['wind']"
   ]
  },
  {
   "cell_type": "code",
   "execution_count": null,
   "metadata": {},
   "outputs": [],
   "source": []
  }
 ],
 "metadata": {
  "kernelspec": {
   "display_name": "Python 3",
   "language": "python",
   "name": "python3"
  },
  "language_info": {
   "codemirror_mode": {
    "name": "ipython",
    "version": 3
   },
   "file_extension": ".py",
   "mimetype": "text/x-python",
   "name": "python",
   "nbconvert_exporter": "python",
   "pygments_lexer": "ipython3",
   "version": "3.6.2"
  }
 },
 "nbformat": 4,
 "nbformat_minor": 2
}
