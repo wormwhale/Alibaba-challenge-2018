{
 "cells": [
  {
   "cell_type": "code",
   "execution_count": 1,
   "metadata": {},
   "outputs": [],
   "source": [
    "import numpy as np"
   ]
  },
  {
   "cell_type": "code",
   "execution_count": 2,
   "metadata": {
    "collapsed": true
   },
   "outputs": [],
   "source": [
    "import pandas as pd"
   ]
  },
  {
   "cell_type": "code",
   "execution_count": 3,
   "metadata": {
    "collapsed": true
   },
   "outputs": [],
   "source": [
    "df_csv = pd.read_csv(\"In_situMeasurementforTraining_201712_1.csv\")"
   ]
  },
  {
   "cell_type": "code",
   "execution_count": 4,
   "metadata": {},
   "outputs": [
    {
     "data": {
      "text/html": [
       "<div>\n",
       "<style>\n",
       "    .dataframe thead tr:only-child th {\n",
       "        text-align: right;\n",
       "    }\n",
       "\n",
       "    .dataframe thead th {\n",
       "        text-align: left;\n",
       "    }\n",
       "\n",
       "    .dataframe tbody tr th {\n",
       "        vertical-align: top;\n",
       "    }\n",
       "</style>\n",
       "<table border=\"1\" class=\"dataframe\">\n",
       "  <thead>\n",
       "    <tr style=\"text-align: right;\">\n",
       "      <th></th>\n",
       "      <th>xid</th>\n",
       "      <th>yid</th>\n",
       "      <th>date_id</th>\n",
       "      <th>hour</th>\n",
       "      <th>wind</th>\n",
       "    </tr>\n",
       "  </thead>\n",
       "  <tbody>\n",
       "    <tr>\n",
       "      <th>0</th>\n",
       "      <td>1</td>\n",
       "      <td>1</td>\n",
       "      <td>1</td>\n",
       "      <td>3</td>\n",
       "      <td>12.8</td>\n",
       "    </tr>\n",
       "    <tr>\n",
       "      <th>1</th>\n",
       "      <td>1</td>\n",
       "      <td>2</td>\n",
       "      <td>1</td>\n",
       "      <td>3</td>\n",
       "      <td>12.8</td>\n",
       "    </tr>\n",
       "    <tr>\n",
       "      <th>2</th>\n",
       "      <td>1</td>\n",
       "      <td>3</td>\n",
       "      <td>1</td>\n",
       "      <td>3</td>\n",
       "      <td>12.6</td>\n",
       "    </tr>\n",
       "    <tr>\n",
       "      <th>3</th>\n",
       "      <td>1</td>\n",
       "      <td>4</td>\n",
       "      <td>1</td>\n",
       "      <td>3</td>\n",
       "      <td>12.1</td>\n",
       "    </tr>\n",
       "    <tr>\n",
       "      <th>4</th>\n",
       "      <td>1</td>\n",
       "      <td>5</td>\n",
       "      <td>1</td>\n",
       "      <td>3</td>\n",
       "      <td>11.6</td>\n",
       "    </tr>\n",
       "  </tbody>\n",
       "</table>\n",
       "</div>"
      ],
      "text/plain": [
       "   xid  yid  date_id  hour  wind\n",
       "0    1    1        1     3  12.8\n",
       "1    1    2        1     3  12.8\n",
       "2    1    3        1     3  12.6\n",
       "3    1    4        1     3  12.1\n",
       "4    1    5        1     3  11.6"
      ]
     },
     "execution_count": 4,
     "metadata": {},
     "output_type": "execute_result"
    }
   ],
   "source": [
    "df_csv.head()"
   ]
  },
  {
   "cell_type": "code",
   "execution_count": 5,
   "metadata": {},
   "outputs": [
    {
     "data": {
      "text/html": [
       "<div>\n",
       "<style>\n",
       "    .dataframe thead tr:only-child th {\n",
       "        text-align: right;\n",
       "    }\n",
       "\n",
       "    .dataframe thead th {\n",
       "        text-align: left;\n",
       "    }\n",
       "\n",
       "    .dataframe tbody tr th {\n",
       "        vertical-align: top;\n",
       "    }\n",
       "</style>\n",
       "<table border=\"1\" class=\"dataframe\">\n",
       "  <thead>\n",
       "    <tr style=\"text-align: right;\">\n",
       "      <th></th>\n",
       "      <th>xid</th>\n",
       "      <th>yid</th>\n",
       "      <th>date_id</th>\n",
       "      <th>hour</th>\n",
       "      <th>wind</th>\n",
       "    </tr>\n",
       "  </thead>\n",
       "  <tbody>\n",
       "    <tr>\n",
       "      <th>count</th>\n",
       "      <td>4.152744e+06</td>\n",
       "      <td>4.152744e+06</td>\n",
       "      <td>4152744.0</td>\n",
       "      <td>4.152744e+06</td>\n",
       "      <td>4.152744e+06</td>\n",
       "    </tr>\n",
       "    <tr>\n",
       "      <th>mean</th>\n",
       "      <td>2.745000e+02</td>\n",
       "      <td>2.110000e+02</td>\n",
       "      <td>1.0</td>\n",
       "      <td>1.150000e+01</td>\n",
       "      <td>1.151254e+01</td>\n",
       "    </tr>\n",
       "    <tr>\n",
       "      <th>std</th>\n",
       "      <td>1.581937e+02</td>\n",
       "      <td>1.215319e+02</td>\n",
       "      <td>0.0</td>\n",
       "      <td>5.188128e+00</td>\n",
       "      <td>4.850973e+00</td>\n",
       "    </tr>\n",
       "    <tr>\n",
       "      <th>min</th>\n",
       "      <td>1.000000e+00</td>\n",
       "      <td>1.000000e+00</td>\n",
       "      <td>1.0</td>\n",
       "      <td>3.000000e+00</td>\n",
       "      <td>0.000000e+00</td>\n",
       "    </tr>\n",
       "    <tr>\n",
       "      <th>25%</th>\n",
       "      <td>1.377500e+02</td>\n",
       "      <td>1.060000e+02</td>\n",
       "      <td>1.0</td>\n",
       "      <td>7.000000e+00</td>\n",
       "      <td>8.000000e+00</td>\n",
       "    </tr>\n",
       "    <tr>\n",
       "      <th>50%</th>\n",
       "      <td>2.745000e+02</td>\n",
       "      <td>2.110000e+02</td>\n",
       "      <td>1.0</td>\n",
       "      <td>1.150000e+01</td>\n",
       "      <td>1.110000e+01</td>\n",
       "    </tr>\n",
       "    <tr>\n",
       "      <th>75%</th>\n",
       "      <td>4.112500e+02</td>\n",
       "      <td>3.160000e+02</td>\n",
       "      <td>1.0</td>\n",
       "      <td>1.600000e+01</td>\n",
       "      <td>1.470000e+01</td>\n",
       "    </tr>\n",
       "    <tr>\n",
       "      <th>max</th>\n",
       "      <td>5.480000e+02</td>\n",
       "      <td>4.210000e+02</td>\n",
       "      <td>1.0</td>\n",
       "      <td>2.000000e+01</td>\n",
       "      <td>2.650000e+01</td>\n",
       "    </tr>\n",
       "  </tbody>\n",
       "</table>\n",
       "</div>"
      ],
      "text/plain": [
       "                xid           yid    date_id          hour          wind\n",
       "count  4.152744e+06  4.152744e+06  4152744.0  4.152744e+06  4.152744e+06\n",
       "mean   2.745000e+02  2.110000e+02        1.0  1.150000e+01  1.151254e+01\n",
       "std    1.581937e+02  1.215319e+02        0.0  5.188128e+00  4.850973e+00\n",
       "min    1.000000e+00  1.000000e+00        1.0  3.000000e+00  0.000000e+00\n",
       "25%    1.377500e+02  1.060000e+02        1.0  7.000000e+00  8.000000e+00\n",
       "50%    2.745000e+02  2.110000e+02        1.0  1.150000e+01  1.110000e+01\n",
       "75%    4.112500e+02  3.160000e+02        1.0  1.600000e+01  1.470000e+01\n",
       "max    5.480000e+02  4.210000e+02        1.0  2.000000e+01  2.650000e+01"
      ]
     },
     "execution_count": 5,
     "metadata": {},
     "output_type": "execute_result"
    }
   ],
   "source": [
    "df_csv.describe()"
   ]
  },
  {
   "cell_type": "code",
   "execution_count": 6,
   "metadata": {},
   "outputs": [],
   "source": [
    "df_csv_list = []\n",
    "for i in range(3,19):\n",
    "    df_csv_list.append(df_csv[df_csv.hour == i])\n",
    "for i in range(len(df_csv_list)):\n",
    "    df_csv_list[i].drop(['hour','date_id'],axis =1)"
   ]
  },
  {
   "cell_type": "code",
   "execution_count": 7,
   "metadata": {
    "collapsed": true
   },
   "outputs": [],
   "source": [
    "import seaborn as sns"
   ]
  },
  {
   "cell_type": "code",
   "execution_count": 8,
   "metadata": {},
   "outputs": [],
   "source": [
    "from matplotlib import pyplot as plt\n",
    "\n",
    "for i in range(len(df_csv_list)):\n",
    "    df_ = df_csv_list[i].pivot(index= 'yid', columns = 'xid', values = 'wind')\n",
    "    sns.heatmap(df_, cbar = False)\n",
    "    plt.savefig(str(i) + '.png')\n"
   ]
  }
 ],
 "metadata": {
  "kernelspec": {
   "display_name": "Python 3",
   "language": "python",
   "name": "python3"
  },
  "language_info": {
   "codemirror_mode": {
    "name": "ipython",
    "version": 3
   },
   "file_extension": ".py",
   "mimetype": "text/x-python",
   "name": "python",
   "nbconvert_exporter": "python",
   "pygments_lexer": "ipython3",
   "version": "3.6.1"
  }
 },
 "nbformat": 4,
 "nbformat_minor": 2
}
