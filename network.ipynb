{
 "cells": [
  {
   "cell_type": "code",
   "execution_count": 13,
   "metadata": {
    "collapsed": true
   },
   "outputs": [],
   "source": [
    "import os\n",
    "os.environ['KERAS_BACKEND']='theano' # replace 'theano' with 'tensorflow' if you wish to use tf \n",
    "from keras.models import Sequential\n",
    "from keras.layers import Dense, Activation\n",
    "from keras.optimizers import RMSprop"
   ]
  },
  {
   "cell_type": "code",
   "execution_count": 14,
   "metadata": {},
   "outputs": [
    {
     "name": "stdout",
     "output_type": "stream",
     "text": [
      "Training ------------\n",
      "Epoch 1/10\n",
      "4152744/4152744 [==============================] - 27s 6us/step - loss: 0.2245 - acc: 0.9054\n",
      "Epoch 2/10\n",
      "4152744/4152744 [==============================] - 23s 6us/step - loss: 0.1265 - acc: 0.9488\n",
      "Epoch 3/10\n",
      "4152744/4152744 [==============================] - 22s 5us/step - loss: 0.1160 - acc: 0.9532\n",
      "Epoch 4/10\n",
      "4152744/4152744 [==============================] - 21s 5us/step - loss: 0.1099 - acc: 0.9556\n",
      "Epoch 5/10\n",
      "4152744/4152744 [==============================] - 21s 5us/step - loss: 0.1061 - acc: 0.9573\n",
      "Epoch 6/10\n",
      "4152744/4152744 [==============================] - 21s 5us/step - loss: 0.1029 - acc: 0.9587\n",
      "Epoch 7/10\n",
      "4152744/4152744 [==============================] - 22s 5us/step - loss: 0.1005 - acc: 0.9595\n",
      "Epoch 8/10\n",
      "4152744/4152744 [==============================] - 23s 6us/step - loss: 0.0985 - acc: 0.9604\n",
      "Epoch 9/10\n",
      "4152744/4152744 [==============================] - 23s 6us/step - loss: 0.0967 - acc: 0.9610\n",
      "Epoch 10/10\n",
      "4152744/4152744 [==============================] - 20s 5us/step - loss: 0.0952 - acc: 0.9616\n",
      "\n",
      "Testing ------------\n",
      "4152744/4152744 [==============================] - 24s 6us/step\n",
      "('test loss: ', 0.38197616274683771)\n",
      "('test accuracy: ', 0.90114777120862732)\n"
     ]
    }
   ],
   "source": [
    "model = Sequential([\n",
    "    Dense(60, input_dim=30),  \n",
    "    Activation('relu'),\n",
    "    Dense(100),  \n",
    "    Activation('relu'),\n",
    "    Dense(30),\n",
    "    Activation('relu'),\n",
    "    Dense(10),\n",
    "    Activation('relu'),   \n",
    "    Dense(1),\n",
    "    Activation('sigmoid'),\n",
    "])\n",
    "\n",
    "model.compile(optimizer=\"rmsprop\",\n",
    "              loss='binary_crossentropy',\n",
    "              metrics=['accuracy'])\n",
    "print('Training ------------')\n",
    "model.fit(X_train, y_train, epochs=10, batch_size=2000)\n",
    "\n",
    "\n",
    "print('\\nTesting ------------')\n",
    "loss, accuracy = model.evaluate(X_test, y_test)\n",
    "print('test loss: ', loss)\n",
    "print('test accuracy: ', accuracy)"
   ]
  }
 ],
 "metadata": {
  "kernelspec": {
   "display_name": "Python 2",
   "language": "python",
   "name": "python2"
  },
  "language_info": {
   "codemirror_mode": {
    "name": "ipython",
    "version": 2
   },
   "file_extension": ".py",
   "mimetype": "text/x-python",
   "name": "python",
   "nbconvert_exporter": "python",
   "pygments_lexer": "ipython2",
   "version": "2.7.11"
  }
 },
 "nbformat": 4,
 "nbformat_minor": 2
}
